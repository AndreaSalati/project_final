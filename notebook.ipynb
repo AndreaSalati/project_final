{
 "cells": [
  {
   "cell_type": "code",
   "execution_count": 2,
   "metadata": {},
   "outputs": [
    {
     "name": "stderr",
     "output_type": "stream",
     "text": [
      "/Users/salati/Documents/CODE/github/project_final/utils.py:47: FutureWarning: Support for multi-dimensional indexing (e.g. `obj[:, None]`) is deprecated and will be removed in a future version.  Convert to a numpy array before indexing instead.\n",
      "  data.layers[\"f_cg\"] = data.layers[\"n_cg\"] / data.obs[\"n_c\"][:, None]\n"
     ]
    },
    {
     "name": "stdout",
     "output_type": "stream",
     "text": [
      "View of AnnData object with n_obs × n_vars = 20082 × 11\n",
      "    obs: 'orig.ident', 'nCount_RNA', 'nFeature_RNA', 'percent.intron', 'Sex', 'ZT', 'Variables', 'percent.mt', 'percent.caspase', 'nCount_SCT', 'nFeature_SCT', 'integrated_snn_res.0.3', 'seurat_clusters', 'Zone', 'dataset', 'n_c'\n",
      "    obsm: 'X_pca', 'X_tsne'\n",
      "    layers: 'n_cg', 'f_cg'\n"
     ]
    },
    {
     "data": {
      "image/png": "[encoded data removed]",
      "text/plain": [
       "<Figure size 640x480 with 1 Axes>"
      ]
     },
     "metadata": {},
     "output_type": "display_data"
    },
    {
     "ename": "IndexError",
     "evalue": "too many indices for array: array is 1-dimensional, but 2 were indexed",
     "output_type": "error",
     "traceback": [
      "\u001b[0;31m---------------------------------------------------------------------------\u001b[0m",
      "\u001b[0;31mIndexError\u001b[0m                                Traceback (most recent call last)",
      "Cell \u001b[0;32mIn[2], line 1\u001b[0m\n\u001b[0;32m----> 1\u001b[0m \u001b[39mimport\u001b[39;00m \u001b[39mmain\u001b[39;00m \u001b[39mas\u001b[39;00m \u001b[39mmn\u001b[39;00m\n",
      "File \u001b[0;32m~/Documents/CODE/github/project_final/main.py:33\u001b[0m\n\u001b[1;32m     30\u001b[0m plt\u001b[39m.\u001b[39mscatter(x_, x_unif[:], s\u001b[39m=\u001b[39m\u001b[39m1\u001b[39m)\n\u001b[1;32m     31\u001b[0m plt\u001b[39m.\u001b[39mshow()\n\u001b[0;32m---> 33\u001b[0m x_shifted, a0_shifted, a1_shifted, xs \u001b[39m=\u001b[39m shift_samples_per_mouse(\n\u001b[1;32m     34\u001b[0m     x_, disp_, a0_, a1_, cfg\u001b[39m.\u001b[39;49mcentral, data\n\u001b[1;32m     35\u001b[0m )\n\u001b[1;32m     37\u001b[0m \u001b[39mprint\u001b[39m(xs)\n\u001b[1;32m     38\u001b[0m plt\u001b[39m.\u001b[39mscatter(x_, x_shifted[:], s\u001b[39m=\u001b[39m\u001b[39m1\u001b[39m)\n",
      "File \u001b[0;32m~/Documents/CODE/github/project_final/utils.py:188\u001b[0m, in \u001b[0;36mshift_samples_per_mouse\u001b[0;34m(x, a0, a1, sample_id, central, data)\u001b[0m\n\u001b[1;32m    185\u001b[0m     offset \u001b[39m=\u001b[39m np\u001b[39m.\u001b[39mmedian(xx[col])\n\u001b[1;32m    186\u001b[0m     xs\u001b[39m.\u001b[39mappend(offset)\n\u001b[0;32m--> 188\u001b[0m x_shifted, a0_shifted, a1_shifted \u001b[39m=\u001b[39m shift_parameters(x, a0, a1, xs, sample_id)\n\u001b[1;32m    190\u001b[0m \u001b[39mreturn\u001b[39;00m x_shifted, a0_shifted, a1_shifted, xs\n",
      "File \u001b[0;32m~/Documents/CODE/github/project_final/utils.py:209\u001b[0m, in \u001b[0;36mshift_parameters\u001b[0;34m(x, a0, a1, shift, sample_id)\u001b[0m\n\u001b[1;32m    207\u001b[0m     x_range \u001b[39m=\u001b[39m \u001b[39m1.0\u001b[39m\n\u001b[1;32m    208\u001b[0m     x_scaled[idx] \u001b[39m=\u001b[39m (xx \u001b[39m-\u001b[39m shift[s]) \u001b[39m/\u001b[39m x_range\n\u001b[0;32m--> 209\u001b[0m     a0_scaled[s, :] \u001b[39m=\u001b[39m a0[s, :] \u001b[39m+\u001b[39m a1[:] \u001b[39m*\u001b[39m shift[s]\n\u001b[1;32m    210\u001b[0m     a1_scaled[:] \u001b[39m=\u001b[39m a1[:] \u001b[39m*\u001b[39m x_range\n\u001b[1;32m    211\u001b[0m \u001b[39mreturn\u001b[39;00m x_scaled, a0_scaled, a1_scaled\n",
      "\u001b[0;31mIndexError\u001b[0m: too many indices for array: array is 1-dimensional, but 2 were indexed"
     ]
    }
   ],
   "source": [
    "import main as mn"
   ]
  },
  {
   "cell_type": "code",
   "execution_count": null,
   "metadata": {},
   "outputs": [
    {
     "ename": "NameError",
     "evalue": "name 'mn' is not defined",
     "output_type": "error",
     "traceback": [
      "\u001b[0;31m---------------------------------------------------------------------------\u001b[0m",
      "\u001b[0;31mNameError\u001b[0m                                 Traceback (most recent call last)",
      "Cell \u001b[0;32mIn[2], line 1\u001b[0m\n\u001b[0;32m----> 1\u001b[0m mn\u001b[39m.\u001b[39mdata\n",
      "\u001b[0;31mNameError\u001b[0m: name 'mn' is not defined"
     ]
    }
   ],
   "source": [
    "mn.data"
   ]
  }
 ],
 "metadata": {
  "kernelspec": {
   "display_name": "Python 3.9.16 ('pyro')",
   "language": "python",
   "name": "python3"
  },
  "language_info": {
   "codemirror_mode": {
    "name": "ipython",
    "version": 3
   },
   "file_extension": ".py",
   "mimetype": "text/x-python",
   "name": "python",
   "nbconvert_exporter": "python",
   "pygments_lexer": "ipython3",
   "version": "3.9.16"
  },
  "orig_nbformat": 4,
  "vscode": {
   "interpreter": {
    "hash": "82bd18d04faf217dee0c8dd3f9df49b02a4f0586e5e949276f703a460c4ce9a0"
   }
  }
 },
 "nbformat": 4,
 "nbformat_minor": 2
}
